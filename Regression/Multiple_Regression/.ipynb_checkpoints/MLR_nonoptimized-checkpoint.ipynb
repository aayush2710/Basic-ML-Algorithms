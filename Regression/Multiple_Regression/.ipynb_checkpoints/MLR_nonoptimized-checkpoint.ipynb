{
 "cells": [
  {
   "cell_type": "code",
   "execution_count": 1,
   "metadata": {},
   "outputs": [],
   "source": [
    "import numpy as np\n",
    "import matplotlib.pyplot as plt\n",
    "import pandas as pd"
   ]
  },
  {
   "cell_type": "code",
   "execution_count": 2,
   "metadata": {},
   "outputs": [],
   "source": [
    "dataset = pd.read_csv('50_Startups.csv')"
   ]
  },
  {
   "cell_type": "code",
   "execution_count": 3,
   "metadata": {},
   "outputs": [
    {
     "data": {
      "text/html": [
       "<div>\n",
       "<style scoped>\n",
       "    .dataframe tbody tr th:only-of-type {\n",
       "        vertical-align: middle;\n",
       "    }\n",
       "\n",
       "    .dataframe tbody tr th {\n",
       "        vertical-align: top;\n",
       "    }\n",
       "\n",
       "    .dataframe thead th {\n",
       "        text-align: right;\n",
       "    }\n",
       "</style>\n",
       "<table border=\"1\" class=\"dataframe\">\n",
       "  <thead>\n",
       "    <tr style=\"text-align: right;\">\n",
       "      <th></th>\n",
       "      <th>R&amp;D Spend</th>\n",
       "      <th>Administration</th>\n",
       "      <th>Marketing Spend</th>\n",
       "      <th>State</th>\n",
       "      <th>Profit</th>\n",
       "    </tr>\n",
       "  </thead>\n",
       "  <tbody>\n",
       "    <tr>\n",
       "      <th>0</th>\n",
       "      <td>165349.20</td>\n",
       "      <td>136897.80</td>\n",
       "      <td>471784.10</td>\n",
       "      <td>New York</td>\n",
       "      <td>192261.83</td>\n",
       "    </tr>\n",
       "    <tr>\n",
       "      <th>1</th>\n",
       "      <td>162597.70</td>\n",
       "      <td>151377.59</td>\n",
       "      <td>443898.53</td>\n",
       "      <td>California</td>\n",
       "      <td>191792.06</td>\n",
       "    </tr>\n",
       "    <tr>\n",
       "      <th>2</th>\n",
       "      <td>153441.51</td>\n",
       "      <td>101145.55</td>\n",
       "      <td>407934.54</td>\n",
       "      <td>Florida</td>\n",
       "      <td>191050.39</td>\n",
       "    </tr>\n",
       "    <tr>\n",
       "      <th>3</th>\n",
       "      <td>144372.41</td>\n",
       "      <td>118671.85</td>\n",
       "      <td>383199.62</td>\n",
       "      <td>New York</td>\n",
       "      <td>182901.99</td>\n",
       "    </tr>\n",
       "    <tr>\n",
       "      <th>4</th>\n",
       "      <td>142107.34</td>\n",
       "      <td>91391.77</td>\n",
       "      <td>366168.42</td>\n",
       "      <td>Florida</td>\n",
       "      <td>166187.94</td>\n",
       "    </tr>\n",
       "    <tr>\n",
       "      <th>5</th>\n",
       "      <td>131876.90</td>\n",
       "      <td>99814.71</td>\n",
       "      <td>362861.36</td>\n",
       "      <td>New York</td>\n",
       "      <td>156991.12</td>\n",
       "    </tr>\n",
       "    <tr>\n",
       "      <th>6</th>\n",
       "      <td>134615.46</td>\n",
       "      <td>147198.87</td>\n",
       "      <td>127716.82</td>\n",
       "      <td>California</td>\n",
       "      <td>156122.51</td>\n",
       "    </tr>\n",
       "    <tr>\n",
       "      <th>7</th>\n",
       "      <td>130298.13</td>\n",
       "      <td>145530.06</td>\n",
       "      <td>323876.68</td>\n",
       "      <td>Florida</td>\n",
       "      <td>155752.60</td>\n",
       "    </tr>\n",
       "    <tr>\n",
       "      <th>8</th>\n",
       "      <td>120542.52</td>\n",
       "      <td>148718.95</td>\n",
       "      <td>311613.29</td>\n",
       "      <td>New York</td>\n",
       "      <td>152211.77</td>\n",
       "    </tr>\n",
       "    <tr>\n",
       "      <th>9</th>\n",
       "      <td>123334.88</td>\n",
       "      <td>108679.17</td>\n",
       "      <td>304981.62</td>\n",
       "      <td>California</td>\n",
       "      <td>149759.96</td>\n",
       "    </tr>\n",
       "    <tr>\n",
       "      <th>10</th>\n",
       "      <td>101913.08</td>\n",
       "      <td>110594.11</td>\n",
       "      <td>229160.95</td>\n",
       "      <td>Florida</td>\n",
       "      <td>146121.95</td>\n",
       "    </tr>\n",
       "    <tr>\n",
       "      <th>11</th>\n",
       "      <td>100671.96</td>\n",
       "      <td>91790.61</td>\n",
       "      <td>249744.55</td>\n",
       "      <td>California</td>\n",
       "      <td>144259.40</td>\n",
       "    </tr>\n",
       "    <tr>\n",
       "      <th>12</th>\n",
       "      <td>93863.75</td>\n",
       "      <td>127320.38</td>\n",
       "      <td>249839.44</td>\n",
       "      <td>Florida</td>\n",
       "      <td>141585.52</td>\n",
       "    </tr>\n",
       "    <tr>\n",
       "      <th>13</th>\n",
       "      <td>91992.39</td>\n",
       "      <td>135495.07</td>\n",
       "      <td>252664.93</td>\n",
       "      <td>California</td>\n",
       "      <td>134307.35</td>\n",
       "    </tr>\n",
       "    <tr>\n",
       "      <th>14</th>\n",
       "      <td>119943.24</td>\n",
       "      <td>156547.42</td>\n",
       "      <td>256512.92</td>\n",
       "      <td>Florida</td>\n",
       "      <td>132602.65</td>\n",
       "    </tr>\n",
       "  </tbody>\n",
       "</table>\n",
       "</div>"
      ],
      "text/plain": [
       "    R&D Spend  Administration  Marketing Spend       State     Profit\n",
       "0   165349.20       136897.80        471784.10    New York  192261.83\n",
       "1   162597.70       151377.59        443898.53  California  191792.06\n",
       "2   153441.51       101145.55        407934.54     Florida  191050.39\n",
       "3   144372.41       118671.85        383199.62    New York  182901.99\n",
       "4   142107.34        91391.77        366168.42     Florida  166187.94\n",
       "5   131876.90        99814.71        362861.36    New York  156991.12\n",
       "6   134615.46       147198.87        127716.82  California  156122.51\n",
       "7   130298.13       145530.06        323876.68     Florida  155752.60\n",
       "8   120542.52       148718.95        311613.29    New York  152211.77\n",
       "9   123334.88       108679.17        304981.62  California  149759.96\n",
       "10  101913.08       110594.11        229160.95     Florida  146121.95\n",
       "11  100671.96        91790.61        249744.55  California  144259.40\n",
       "12   93863.75       127320.38        249839.44     Florida  141585.52\n",
       "13   91992.39       135495.07        252664.93  California  134307.35\n",
       "14  119943.24       156547.42        256512.92     Florida  132602.65"
      ]
     },
     "execution_count": 3,
     "metadata": {},
     "output_type": "execute_result"
    }
   ],
   "source": [
    "dataset.head(15)"
   ]
  },
  {
   "cell_type": "code",
   "execution_count": 4,
   "metadata": {},
   "outputs": [],
   "source": [
    "X = dataset.iloc[:, :-1].values\n",
    "y = dataset.iloc[:, 4].values"
   ]
  },
  {
   "cell_type": "code",
   "execution_count": 5,
   "metadata": {},
   "outputs": [
    {
     "name": "stdout",
     "output_type": "stream",
     "text": [
      "          0        1       2           3\n",
      "0    165349   136898  471784    New York\n",
      "1    162598   151378  443899  California\n",
      "2    153442   101146  407935     Florida\n",
      "3    144372   118672  383200    New York\n",
      "4    142107  91391.8  366168     Florida\n",
      "5    131877  99814.7  362861    New York\n",
      "6    134615   147199  127717  California\n",
      "7    130298   145530  323877     Florida\n",
      "8    120543   148719  311613    New York\n",
      "9    123335   108679  304982  California\n",
      "10   101913   110594  229161     Florida\n",
      "11   100672  91790.6  249745  California\n",
      "12  93863.8   127320  249839     Florida\n",
      "13  91992.4   135495  252665  California\n",
      "14   119943   156547  256513     Florida\n",
      "            0\n",
      "0   192261.83\n",
      "1   191792.06\n",
      "2   191050.39\n",
      "3   182901.99\n",
      "4   166187.94\n",
      "5   156991.12\n",
      "6   156122.51\n",
      "7   155752.60\n",
      "8   152211.77\n",
      "9   149759.96\n",
      "10  146121.95\n",
      "11  144259.40\n",
      "12  141585.52\n",
      "13  134307.35\n",
      "14  132602.65\n"
     ]
    }
   ],
   "source": [
    "print(pd.DataFrame(X).head(15))\n",
    "print(pd.DataFrame(y).head(15))"
   ]
  },
  {
   "cell_type": "code",
   "execution_count": 6,
   "metadata": {},
   "outputs": [
    {
     "name": "stdout",
     "output_type": "stream",
     "text": [
      "      0    1    2          3          4          5\n",
      "0   0.0  0.0  1.0  165349.20  136897.80  471784.10\n",
      "1   1.0  0.0  0.0  162597.70  151377.59  443898.53\n",
      "2   0.0  1.0  0.0  153441.51  101145.55  407934.54\n",
      "3   0.0  0.0  1.0  144372.41  118671.85  383199.62\n",
      "4   0.0  1.0  0.0  142107.34   91391.77  366168.42\n",
      "5   0.0  0.0  1.0  131876.90   99814.71  362861.36\n",
      "6   1.0  0.0  0.0  134615.46  147198.87  127716.82\n",
      "7   0.0  1.0  0.0  130298.13  145530.06  323876.68\n",
      "8   0.0  0.0  1.0  120542.52  148718.95  311613.29\n",
      "9   1.0  0.0  0.0  123334.88  108679.17  304981.62\n",
      "10  0.0  1.0  0.0  101913.08  110594.11  229160.95\n",
      "11  1.0  0.0  0.0  100671.96   91790.61  249744.55\n",
      "12  0.0  1.0  0.0   93863.75  127320.38  249839.44\n",
      "13  1.0  0.0  0.0   91992.39  135495.07  252664.93\n",
      "14  0.0  1.0  0.0  119943.24  156547.42  256512.92\n",
      "            0\n",
      "0   192261.83\n",
      "1   191792.06\n",
      "2   191050.39\n",
      "3   182901.99\n",
      "4   166187.94\n",
      "5   156991.12\n",
      "6   156122.51\n",
      "7   155752.60\n",
      "8   152211.77\n",
      "9   149759.96\n",
      "10  146121.95\n",
      "11  144259.40\n",
      "12  141585.52\n",
      "13  134307.35\n",
      "14  132602.65\n"
     ]
    }
   ],
   "source": [
    "from sklearn.preprocessing import  OneHotEncoder\n",
    "onehotencoder = OneHotEncoder(categories='auto') #Assigning 0,1,2 to countries is not a good idea since making numerical comparisons for countries is senseless\n",
    "X = np.append(onehotencoder.fit_transform(X[:,3].reshape(-1,1)).toarray() , X[:,:-1] , axis = 1).astype(np.float64)\n",
    "y = y.astype(np.float64)\n",
    "print(pd.DataFrame(X).head(15))\n",
    "print(pd.DataFrame(y).head(15))\n"
   ]
  },
  {
   "cell_type": "code",
   "execution_count": 7,
   "metadata": {},
   "outputs": [],
   "source": [
    "from sklearn.model_selection import train_test_split\n",
    "X_train, X_test, y_train, y_test =  train_test_split(X,y,test_size = 0.2, random_state = 0)\n"
   ]
  },
  {
   "cell_type": "code",
   "execution_count": 11,
   "metadata": {},
   "outputs": [
    {
     "name": "stdout",
     "output_type": "stream",
     "text": [
      "[103015.20159796 132582.27760816 132447.73845174  71976.09851258\n",
      " 178537.48221055 116161.24230166  67851.69209676  98791.73374686\n",
      " 113969.43533013 167921.06569551]\n"
     ]
    }
   ],
   "source": [
    "from sklearn.linear_model import LinearRegression\n",
    "\n",
    "regressor = LinearRegression()\n",
    "regressor.fit(X_train , y_train)\n",
    "y_predict = regressor.predict(X_test)\n",
    "print(y_predict)"
   ]
  },
  {
   "cell_type": "code",
   "execution_count": 15,
   "metadata": {},
   "outputs": [
    {
     "name": "stdout",
     "output_type": "stream",
     "text": [
      "           0\n",
      "0  103282.38\n",
      "1  144259.40\n",
      "2  146121.95\n",
      "3   77798.83\n",
      "4  191050.39\n",
      "5  105008.31\n",
      "6   81229.06\n",
      "7   97483.56\n",
      "8  110352.25\n",
      "9  166187.94\n",
      "               0\n",
      "0  103015.201598\n",
      "1  132582.277608\n",
      "2  132447.738452\n",
      "3   71976.098513\n",
      "4  178537.482211\n",
      "5  116161.242302\n",
      "6   67851.692097\n",
      "7   98791.733747\n",
      "8  113969.435330\n",
      "9  167921.065696\n"
     ]
    }
   ],
   "source": [
    "print(pd.DataFrame(y_test) ),\n",
    "print(pd.DataFrame(y_predict))"
   ]
  },
  {
   "cell_type": "code",
   "execution_count": null,
   "metadata": {},
   "outputs": [],
   "source": []
  }
 ],
 "metadata": {
  "kernelspec": {
   "display_name": "Python 3",
   "language": "python",
   "name": "python3"
  },
  "language_info": {
   "codemirror_mode": {
    "name": "ipython",
    "version": 3
   },
   "file_extension": ".py",
   "mimetype": "text/x-python",
   "name": "python",
   "nbconvert_exporter": "python",
   "pygments_lexer": "ipython3",
   "version": "3.7.2"
  }
 },
 "nbformat": 4,
 "nbformat_minor": 2
}
