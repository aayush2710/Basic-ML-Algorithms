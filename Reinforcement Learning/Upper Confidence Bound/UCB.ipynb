{
 "cells": [
  {
   "cell_type": "code",
   "execution_count": 1,
   "metadata": {},
   "outputs": [],
   "source": [
    "class Ad:\n",
    "    def __init__(self):\n",
    "        self.N = 0\n",
    "        self.R = []\n",
    "        self.TR = 0\n",
    "        self.AR = 0\n",
    "        self.UCB = 1e400\n",
    "        \n",
    "    def reward(self , rew, n):\n",
    "        from math import sqrt ,  log10\n",
    "        self.N +=1\n",
    "        self.R.append(rew)\n",
    "        self.TR +=rew\n",
    "        self.AR = self.TR/self.N\n",
    "        try:\n",
    "            self.UCB = self.AR + sqrt(1.5*log10(n)/self.N)\n",
    "        except:\n",
    "            pass\n",
    "        \n",
    "import numpy as np\n",
    "import matplotlib.pyplot as plt\n",
    "import pandas as pd"
   ]
  },
  {
   "cell_type": "code",
   "execution_count": 2,
   "metadata": {},
   "outputs": [],
   "source": [
    "dataset = pd.read_csv(\"Ads_CTR_Optimisation.csv\")\n",
    "Data = np.matrix(dataset)\n",
    "\n",
    "a,b = Data.shape\n",
    "\n",
    "ADS = [Ad(),Ad(),Ad(),Ad(),Ad(),Ad(),Ad(),Ad(),Ad(),Ad()]"
   ]
  },
  {
   "cell_type": "code",
   "execution_count": 3,
   "metadata": {},
   "outputs": [],
   "source": [
    "def opt_selector(ADS):\n",
    "    import random\n",
    "    UCB = []\n",
    "    k=0\n",
    "    for i in ADS:\n",
    "        UCB.append((i.UCB,k))\n",
    "        k+=1\n",
    "    \n",
    "    UCB.sort()\n",
    "    t = []\n",
    "    for i in range(10):\n",
    "        if UCB[i][0] == UCB[9][0]:\n",
    "            t.append(UCB[i][1])\n",
    "        \n",
    "    t.sort()\n",
    "   \n",
    "    return random.randint(t[0] , t[-1])"
   ]
  },
  {
   "cell_type": "code",
   "execution_count": 4,
   "metadata": {},
   "outputs": [],
   "source": [
    "TotalRew=0\n",
    "L=[]\n",
    "for i in range(a):\n",
    "    \n",
    "    if i<10:\n",
    "        k = i\n",
    "        \n",
    "    else:\n",
    "    \n",
    "        k = opt_selector(ADS)\n",
    "    L.append(k)\n",
    "   \n",
    "    \n",
    "    rew = Data[i,k]\n",
    "    ADS[k].reward(rew,i+1)\n",
    "    TotalRew+=rew"
   ]
  },
  {
   "cell_type": "code",
   "execution_count": 5,
   "metadata": {},
   "outputs": [
    {
     "data": {
      "text/plain": [
       "(array([ 266.,  171.,  115.,  161., 8178.,   87.,  156.,  636.,  132.,\n",
       "          98.]),\n",
       " array([0. , 0.9, 1.8, 2.7, 3.6, 4.5, 5.4, 6.3, 7.2, 8.1, 9. ]),\n",
       " <a list of 10 Patch objects>)"
      ]
     },
     "execution_count": 5,
     "metadata": {},
     "output_type": "execute_result"
    },
    {
     "data": {
      "image/png": "[encoded data removed]",
      "text/plain": [
       "<Figure size 432x288 with 1 Axes>"
      ]
     },
     "metadata": {
      "needs_background": "light"
     },
     "output_type": "display_data"
    }
   ],
   "source": [
    "plt.hist(L)"
   ]
  },
  {
   "cell_type": "code",
   "execution_count": 7,
   "metadata": {},
   "outputs": [
    {
     "name": "stdout",
     "output_type": "stream",
     "text": [
      "Total Number of AD clicks : 2468/10000\n"
     ]
    }
   ],
   "source": [
    "print(\"Total Number of AD clicks : \" + str(TotalRew) + \"/10000\")"
   ]
  },
  {
   "cell_type": "code",
   "execution_count": null,
   "metadata": {},
   "outputs": [],
   "source": []
  }
 ],
 "metadata": {
  "kernelspec": {
   "display_name": "Python 3",
   "language": "python",
   "name": "python3"
  },
  "language_info": {
   "codemirror_mode": {
    "name": "ipython",
    "version": 3
   },
   "file_extension": ".py",
   "mimetype": "text/x-python",
   "name": "python",
   "nbconvert_exporter": "python",
   "pygments_lexer": "ipython3",
   "version": "3.7.3"
  }
 },
 "nbformat": 4,
 "nbformat_minor": 2
}
