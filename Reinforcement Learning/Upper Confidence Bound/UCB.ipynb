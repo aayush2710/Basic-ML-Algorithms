{
 "cells": [
  {
   "cell_type": "code",
   "execution_count": 1,
   "metadata": {},
   "outputs": [],
   "source": [
    "class Ad:\n",
    "    def __init__(self):\n",
    "        self.N = 0\n",
    "        self.R = []\n",
    "        self.TR = 0\n",
    "        self.AR = 0\n",
    "        \n",
    "        \n",
    "    def reward(self , rew, n):\n",
    "        \n",
    "        self.N +=1\n",
    "        self.R.append(rew)\n",
    "        self.TR +=rew\n",
    "        self.AR = self.TR/self.N        "
   ]
  },
  {
   "cell_type": "code",
   "execution_count": 2,
   "metadata": {},
   "outputs": [],
   "source": [
    "import numpy as np\n",
    "import matplotlib.pyplot as plt\n",
    "import pandas as pd"
   ]
  },
  {
   "cell_type": "code",
   "execution_count": 3,
   "metadata": {},
   "outputs": [],
   "source": [
    "def opt_selector(ADS,n):\n",
    "    import random\n",
    "    UCB = []\n",
    "    k=0\n",
    "    for i in ADS:\n",
    "        from math import sqrt ,  log10\n",
    "        try:\n",
    "            ucb =i.AR + sqrt(1.5*log10(n)/i.N)\n",
    "        except:\n",
    "            ucb=1e400\n",
    "        \n",
    "        UCB.append((ucb,k))\n",
    "        k+=1\n",
    "    \n",
    "    UCB.sort()\n",
    "    t = []\n",
    "    for i in range(10):\n",
    "        if UCB[i][0] == UCB[9][0]:\n",
    "            t.append(UCB[i][1])\n",
    "        \n",
    "    t.sort()\n",
    "   \n",
    "    return random.randint(t[0] , t[-1])"
   ]
  },
  {
   "cell_type": "code",
   "execution_count": 4,
   "metadata": {},
   "outputs": [],
   "source": [
    "dataset = pd.read_csv(\"Ads_CTR_Optimisation.csv\")\n",
    "Data = np.matrix(dataset)\n",
    "\n",
    "r,c = Data.shape\n",
    "\n",
    "ADS=[]\n",
    "for i in range(c):\n",
    "    ADS.append(Ad())\n",
    "dataset\n",
    "TotalRew=0\n",
    "Ad_Shown = []"
   ]
  },
  {
   "cell_type": "markdown",
   "metadata": {},
   "source": [
    "We have 10 advertisments for a product. We dont know which one is going to be the most effective. The dataset contains data of 10000 users depicting which ads from 10 will they click if shown to them. We need to maximize the clicks"
   ]
  },
  {
   "cell_type": "code",
   "execution_count": 5,
   "metadata": {},
   "outputs": [],
   "source": [
    "for i in range(r):\n",
    "    \n",
    "    if i<10:\n",
    "        k = i\n",
    "        \n",
    "    else:\n",
    "    \n",
    "        k = opt_selector(ADS,i)\n",
    "    Ad_Shown.append(k+1)\n",
    "   \n",
    "    \n",
    "    rew = Data[i,k]\n",
    "    ADS[k].reward(rew,i+1)\n",
    "    TotalRew+=rew"
   ]
  },
  {
   "cell_type": "code",
   "execution_count": 6,
   "metadata": {},
   "outputs": [
    {
     "data": {
      "image/png": "[encoded data removed]",
      "text/plain": [
       "<Figure size 432x288 with 1 Axes>"
      ]
     },
     "metadata": {
      "needs_background": "light"
     },
     "output_type": "display_data"
    }
   ],
   "source": [
    "plt.hist(Ad_Shown)\n",
    "plt.title('Histogram of ads selections')\n",
    "plt.xlabel('Ads')\n",
    "plt.ylabel('Number of times each ad was selected')\n",
    "plt.show()"
   ]
  },
  {
   "cell_type": "code",
   "execution_count": 7,
   "metadata": {},
   "outputs": [
    {
     "name": "stdout",
     "output_type": "stream",
     "text": [
      "Total Number of AD clicks : 2420/10000\n"
     ]
    }
   ],
   "source": [
    "print(\"Total Number of AD clicks : \" + str(TotalRew) + \"/10000\")"
   ]
  }
 ],
 "metadata": {
  "kernelspec": {
   "display_name": "Python 3",
   "language": "python",
   "name": "python3"
  },
  "language_info": {
   "codemirror_mode": {
    "name": "ipython",
    "version": 3
   },
   "file_extension": ".py",
   "mimetype": "text/x-python",
   "name": "python",
   "nbconvert_exporter": "python",
   "pygments_lexer": "ipython3",
   "version": "3.7.3"
  }
 },
 "nbformat": 4,
 "nbformat_minor": 2
}
